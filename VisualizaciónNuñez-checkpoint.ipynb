{
 "cells": [
  {
   "cell_type": "code",
   "execution_count": 1,
   "id": "0adf20e2-4a08-4627-8f02-86c4d31dd6f2",
   "metadata": {},
   "outputs": [],
   "source": [
    "import matplotlib as mpl\n",
    "import matplotlib.pyplot as plt\n",
    "mpl.style.use('bmh')\n",
<<<<<<< HEAD
    "import seaborn as sns\n",
    "import pandas as pd"
=======
>>>>>>> 8ce76a81b2640d9b567b44e3533a7a275fa218e9
   ]
  },
  {
   "cell_type": "code",
   "execution_count": 292,
   "id": "565b3e8a-b516-4848-9c01-87547cfc5657",
   "metadata": {
    "collapsed": true,
    "jupyter": {
     "outputs_hidden": true
    },
    "tags": []
   },
   "outputs": [
    {
     "data": {
      "text/html": [
       "<div>\n",
       "<style scoped>\n",
       "    .dataframe tbody tr th:only-of-type {\n",
       "        vertical-align: middle;\n",
       "    }\n",
       "\n",
       "    .dataframe tbody tr th {\n",
       "        vertical-align: top;\n",
       "    }\n",
       "\n",
       "    .dataframe thead th {\n",
       "        text-align: right;\n",
       "    }\n",
       "</style>\n",
       "<table border=\"1\" class=\"dataframe\">\n",
       "  <thead>\n",
       "    <tr style=\"text-align: right;\">\n",
       "      <th></th>\n",
       "      <th>Employee_Name</th>\n",
       "      <th>EmpID</th>\n",
       "      <th>MarriedID</th>\n",
       "      <th>MaritalStatusID</th>\n",
       "      <th>GenderID</th>\n",
       "      <th>EmpStatusID</th>\n",
       "      <th>DeptID</th>\n",
       "      <th>PerfScoreID</th>\n",
       "      <th>FromDiversityJobFairID</th>\n",
       "      <th>Salary</th>\n",
       "      <th>...</th>\n",
       "      <th>ManagerName</th>\n",
       "      <th>ManagerID</th>\n",
       "      <th>RecruitmentSource</th>\n",
       "      <th>PerformanceScore</th>\n",
       "      <th>EngagementSurvey</th>\n",
       "      <th>EmpSatisfaction</th>\n",
       "      <th>SpecialProjectsCount</th>\n",
       "      <th>LastPerformanceReview_Date</th>\n",
       "      <th>DaysLateLast30</th>\n",
       "      <th>Absences</th>\n",
       "    </tr>\n",
       "  </thead>\n",
       "  <tbody>\n",
       "    <tr>\n",
       "      <th>0</th>\n",
       "      <td>Adinolfi, Wilson  K</td>\n",
       "      <td>10026</td>\n",
       "      <td>0</td>\n",
       "      <td>0</td>\n",
       "      <td>1</td>\n",
       "      <td>1</td>\n",
       "      <td>5</td>\n",
       "      <td>4</td>\n",
       "      <td>0</td>\n",
       "      <td>62506</td>\n",
       "      <td>...</td>\n",
       "      <td>Michael Albert</td>\n",
       "      <td>22.0</td>\n",
       "      <td>LinkedIn</td>\n",
       "      <td>Exceeds</td>\n",
       "      <td>4.60</td>\n",
       "      <td>5</td>\n",
       "      <td>0</td>\n",
       "      <td>1/17/2019</td>\n",
       "      <td>0</td>\n",
       "      <td>1</td>\n",
       "    </tr>\n",
       "    <tr>\n",
       "      <th>1</th>\n",
       "      <td>Ait Sidi, Karthikeyan</td>\n",
       "      <td>10084</td>\n",
       "      <td>1</td>\n",
       "      <td>1</td>\n",
       "      <td>1</td>\n",
       "      <td>5</td>\n",
       "      <td>3</td>\n",
       "      <td>3</td>\n",
       "      <td>0</td>\n",
       "      <td>104437</td>\n",
       "      <td>...</td>\n",
       "      <td>Simon Roup</td>\n",
       "      <td>4.0</td>\n",
       "      <td>Indeed</td>\n",
       "      <td>Fully Meets</td>\n",
       "      <td>4.96</td>\n",
       "      <td>3</td>\n",
       "      <td>6</td>\n",
       "      <td>2/24/2016</td>\n",
       "      <td>0</td>\n",
       "      <td>17</td>\n",
       "    </tr>\n",
       "    <tr>\n",
       "      <th>2</th>\n",
       "      <td>Akinkuolie, Sarah</td>\n",
       "      <td>10196</td>\n",
       "      <td>1</td>\n",
       "      <td>1</td>\n",
       "      <td>0</td>\n",
       "      <td>5</td>\n",
       "      <td>5</td>\n",
       "      <td>3</td>\n",
       "      <td>0</td>\n",
       "      <td>64955</td>\n",
       "      <td>...</td>\n",
       "      <td>Kissy Sullivan</td>\n",
       "      <td>20.0</td>\n",
       "      <td>LinkedIn</td>\n",
       "      <td>Fully Meets</td>\n",
       "      <td>3.02</td>\n",
       "      <td>3</td>\n",
       "      <td>0</td>\n",
       "      <td>5/15/2012</td>\n",
       "      <td>0</td>\n",
       "      <td>3</td>\n",
       "    </tr>\n",
       "    <tr>\n",
       "      <th>3</th>\n",
       "      <td>Alagbe,Trina</td>\n",
       "      <td>10088</td>\n",
       "      <td>1</td>\n",
       "      <td>1</td>\n",
       "      <td>0</td>\n",
       "      <td>1</td>\n",
       "      <td>5</td>\n",
       "      <td>3</td>\n",
       "      <td>0</td>\n",
       "      <td>64991</td>\n",
       "      <td>...</td>\n",
       "      <td>Elijiah Gray</td>\n",
       "      <td>16.0</td>\n",
       "      <td>Indeed</td>\n",
       "      <td>Fully Meets</td>\n",
       "      <td>4.84</td>\n",
       "      <td>5</td>\n",
       "      <td>0</td>\n",
       "      <td>1/3/2019</td>\n",
       "      <td>0</td>\n",
       "      <td>15</td>\n",
       "    </tr>\n",
       "    <tr>\n",
       "      <th>4</th>\n",
       "      <td>Anderson, Carol</td>\n",
       "      <td>10069</td>\n",
       "      <td>0</td>\n",
       "      <td>2</td>\n",
       "      <td>0</td>\n",
       "      <td>5</td>\n",
       "      <td>5</td>\n",
       "      <td>3</td>\n",
       "      <td>0</td>\n",
       "      <td>50825</td>\n",
       "      <td>...</td>\n",
       "      <td>Webster Butler</td>\n",
       "      <td>39.0</td>\n",
       "      <td>Google Search</td>\n",
       "      <td>Fully Meets</td>\n",
       "      <td>5.00</td>\n",
       "      <td>4</td>\n",
       "      <td>0</td>\n",
       "      <td>2/1/2016</td>\n",
       "      <td>0</td>\n",
       "      <td>2</td>\n",
       "    </tr>\n",
       "  </tbody>\n",
       "</table>\n",
       "<p>5 rows × 36 columns</p>\n",
       "</div>"
      ],
      "text/plain": [
       "              Employee_Name  EmpID  MarriedID  MaritalStatusID  GenderID  \\\n",
       "0       Adinolfi, Wilson  K  10026          0                0         1   \n",
       "1  Ait Sidi, Karthikeyan     10084          1                1         1   \n",
       "2         Akinkuolie, Sarah  10196          1                1         0   \n",
       "3              Alagbe,Trina  10088          1                1         0   \n",
       "4          Anderson, Carol   10069          0                2         0   \n",
       "\n",
       "   EmpStatusID  DeptID  PerfScoreID  FromDiversityJobFairID  Salary  ...  \\\n",
       "0            1       5            4                       0   62506  ...   \n",
       "1            5       3            3                       0  104437  ...   \n",
       "2            5       5            3                       0   64955  ...   \n",
       "3            1       5            3                       0   64991  ...   \n",
       "4            5       5            3                       0   50825  ...   \n",
       "\n",
       "      ManagerName  ManagerID RecruitmentSource PerformanceScore  \\\n",
       "0  Michael Albert       22.0          LinkedIn          Exceeds   \n",
       "1      Simon Roup        4.0            Indeed      Fully Meets   \n",
       "2  Kissy Sullivan       20.0          LinkedIn      Fully Meets   \n",
       "3    Elijiah Gray       16.0            Indeed      Fully Meets   \n",
       "4  Webster Butler       39.0     Google Search      Fully Meets   \n",
       "\n",
       "   EngagementSurvey EmpSatisfaction SpecialProjectsCount  \\\n",
       "0              4.60               5                    0   \n",
       "1              4.96               3                    6   \n",
       "2              3.02               3                    0   \n",
       "3              4.84               5                    0   \n",
       "4              5.00               4                    0   \n",
       "\n",
       "  LastPerformanceReview_Date DaysLateLast30 Absences  \n",
       "0                  1/17/2019              0        1  \n",
       "1                  2/24/2016              0       17  \n",
       "2                  5/15/2012              0        3  \n",
       "3                   1/3/2019              0       15  \n",
       "4                   2/1/2016              0        2  \n",
       "\n",
       "[5 rows x 36 columns]"
      ]
     },
     "execution_count": 292,
     "metadata": {},
     "output_type": "execute_result"
    }
   ],
   "source": [
    "df= pd.read_csv('C:/Users/anunez/Downloads/HRDataset_v14.csv')      #Creación data frame \"df\"\n",
    "df.head()"
   ]
  },
  {
   "cell_type": "code",
   "execution_count": 293,
   "id": "b0190266-898f-4c0d-a498-e4cf8b3ada33",
   "metadata": {
    "collapsed": true,
    "jupyter": {
     "outputs_hidden": true
    },
    "tags": []
   },
   "outputs": [
    {
     "data": {
      "text/html": [
       "<div>\n",
       "<style scoped>\n",
       "    .dataframe tbody tr th:only-of-type {\n",
       "        vertical-align: middle;\n",
       "    }\n",
       "\n",
       "    .dataframe tbody tr th {\n",
       "        vertical-align: top;\n",
       "    }\n",
       "\n",
       "    .dataframe thead th {\n",
       "        text-align: right;\n",
       "    }\n",
       "</style>\n",
       "<table border=\"1\" class=\"dataframe\">\n",
       "  <thead>\n",
       "    <tr style=\"text-align: right;\">\n",
       "      <th></th>\n",
       "      <th>EmpID</th>\n",
       "      <th>MarriedID</th>\n",
       "      <th>MaritalStatusID</th>\n",
       "      <th>GenderID</th>\n",
       "      <th>EmpStatusID</th>\n",
       "      <th>DeptID</th>\n",
       "      <th>PerfScoreID</th>\n",
       "      <th>FromDiversityJobFairID</th>\n",
       "      <th>Salary</th>\n",
       "      <th>Termd</th>\n",
       "      <th>PositionID</th>\n",
       "      <th>Zip</th>\n",
       "      <th>ManagerID</th>\n",
       "      <th>EngagementSurvey</th>\n",
       "      <th>EmpSatisfaction</th>\n",
       "      <th>SpecialProjectsCount</th>\n",
       "      <th>DaysLateLast30</th>\n",
       "      <th>Absences</th>\n",
       "    </tr>\n",
       "  </thead>\n",
       "  <tbody>\n",
       "    <tr>\n",
       "      <th>count</th>\n",
       "      <td>311.000000</td>\n",
       "      <td>311.000000</td>\n",
       "      <td>311.000000</td>\n",
       "      <td>311.000000</td>\n",
       "      <td>311.000000</td>\n",
       "      <td>311.000000</td>\n",
       "      <td>311.000000</td>\n",
       "      <td>311.000000</td>\n",
       "      <td>311.000000</td>\n",
       "      <td>311.000000</td>\n",
       "      <td>311.000000</td>\n",
       "      <td>311.000000</td>\n",
       "      <td>303.000000</td>\n",
       "      <td>311.000000</td>\n",
       "      <td>311.000000</td>\n",
       "      <td>311.000000</td>\n",
       "      <td>311.000000</td>\n",
       "      <td>311.000000</td>\n",
       "    </tr>\n",
       "    <tr>\n",
       "      <th>mean</th>\n",
       "      <td>10156.000000</td>\n",
       "      <td>0.398714</td>\n",
       "      <td>0.810289</td>\n",
       "      <td>0.434084</td>\n",
       "      <td>2.392283</td>\n",
       "      <td>4.610932</td>\n",
       "      <td>2.977492</td>\n",
       "      <td>0.093248</td>\n",
       "      <td>69020.684887</td>\n",
       "      <td>0.334405</td>\n",
       "      <td>16.845659</td>\n",
       "      <td>6555.482315</td>\n",
       "      <td>14.570957</td>\n",
       "      <td>4.110000</td>\n",
       "      <td>3.890675</td>\n",
       "      <td>1.218650</td>\n",
       "      <td>0.414791</td>\n",
       "      <td>10.237942</td>\n",
       "    </tr>\n",
       "    <tr>\n",
       "      <th>std</th>\n",
       "      <td>89.922189</td>\n",
       "      <td>0.490423</td>\n",
       "      <td>0.943239</td>\n",
       "      <td>0.496435</td>\n",
       "      <td>1.794383</td>\n",
       "      <td>1.083487</td>\n",
       "      <td>0.587072</td>\n",
       "      <td>0.291248</td>\n",
       "      <td>25156.636930</td>\n",
       "      <td>0.472542</td>\n",
       "      <td>6.223419</td>\n",
       "      <td>16908.396884</td>\n",
       "      <td>8.078306</td>\n",
       "      <td>0.789938</td>\n",
       "      <td>0.909241</td>\n",
       "      <td>2.349421</td>\n",
       "      <td>1.294519</td>\n",
       "      <td>5.852596</td>\n",
       "    </tr>\n",
       "    <tr>\n",
       "      <th>min</th>\n",
       "      <td>10001.000000</td>\n",
       "      <td>0.000000</td>\n",
       "      <td>0.000000</td>\n",
       "      <td>0.000000</td>\n",
       "      <td>1.000000</td>\n",
       "      <td>1.000000</td>\n",
       "      <td>1.000000</td>\n",
       "      <td>0.000000</td>\n",
       "      <td>45046.000000</td>\n",
       "      <td>0.000000</td>\n",
       "      <td>1.000000</td>\n",
       "      <td>1013.000000</td>\n",
       "      <td>1.000000</td>\n",
       "      <td>1.120000</td>\n",
       "      <td>1.000000</td>\n",
       "      <td>0.000000</td>\n",
       "      <td>0.000000</td>\n",
       "      <td>1.000000</td>\n",
       "    </tr>\n",
       "    <tr>\n",
       "      <th>25%</th>\n",
       "      <td>10078.500000</td>\n",
       "      <td>0.000000</td>\n",
       "      <td>0.000000</td>\n",
       "      <td>0.000000</td>\n",
       "      <td>1.000000</td>\n",
       "      <td>5.000000</td>\n",
       "      <td>3.000000</td>\n",
       "      <td>0.000000</td>\n",
       "      <td>55501.500000</td>\n",
       "      <td>0.000000</td>\n",
       "      <td>18.000000</td>\n",
       "      <td>1901.500000</td>\n",
       "      <td>10.000000</td>\n",
       "      <td>3.690000</td>\n",
       "      <td>3.000000</td>\n",
       "      <td>0.000000</td>\n",
       "      <td>0.000000</td>\n",
       "      <td>5.000000</td>\n",
       "    </tr>\n",
       "    <tr>\n",
       "      <th>50%</th>\n",
       "      <td>10156.000000</td>\n",
       "      <td>0.000000</td>\n",
       "      <td>1.000000</td>\n",
       "      <td>0.000000</td>\n",
       "      <td>1.000000</td>\n",
       "      <td>5.000000</td>\n",
       "      <td>3.000000</td>\n",
       "      <td>0.000000</td>\n",
       "      <td>62810.000000</td>\n",
       "      <td>0.000000</td>\n",
       "      <td>19.000000</td>\n",
       "      <td>2132.000000</td>\n",
       "      <td>15.000000</td>\n",
       "      <td>4.280000</td>\n",
       "      <td>4.000000</td>\n",
       "      <td>0.000000</td>\n",
       "      <td>0.000000</td>\n",
       "      <td>10.000000</td>\n",
       "    </tr>\n",
       "    <tr>\n",
       "      <th>75%</th>\n",
       "      <td>10233.500000</td>\n",
       "      <td>1.000000</td>\n",
       "      <td>1.000000</td>\n",
       "      <td>1.000000</td>\n",
       "      <td>5.000000</td>\n",
       "      <td>5.000000</td>\n",
       "      <td>3.000000</td>\n",
       "      <td>0.000000</td>\n",
       "      <td>72036.000000</td>\n",
       "      <td>1.000000</td>\n",
       "      <td>20.000000</td>\n",
       "      <td>2355.000000</td>\n",
       "      <td>19.000000</td>\n",
       "      <td>4.700000</td>\n",
       "      <td>5.000000</td>\n",
       "      <td>0.000000</td>\n",
       "      <td>0.000000</td>\n",
       "      <td>15.000000</td>\n",
       "    </tr>\n",
       "    <tr>\n",
       "      <th>max</th>\n",
       "      <td>10311.000000</td>\n",
       "      <td>1.000000</td>\n",
       "      <td>4.000000</td>\n",
       "      <td>1.000000</td>\n",
       "      <td>5.000000</td>\n",
       "      <td>6.000000</td>\n",
       "      <td>4.000000</td>\n",
       "      <td>1.000000</td>\n",
       "      <td>250000.000000</td>\n",
       "      <td>1.000000</td>\n",
       "      <td>30.000000</td>\n",
       "      <td>98052.000000</td>\n",
       "      <td>39.000000</td>\n",
       "      <td>5.000000</td>\n",
       "      <td>5.000000</td>\n",
       "      <td>8.000000</td>\n",
       "      <td>6.000000</td>\n",
       "      <td>20.000000</td>\n",
       "    </tr>\n",
       "  </tbody>\n",
       "</table>\n",
       "</div>"
      ],
      "text/plain": [
       "              EmpID   MarriedID  MaritalStatusID    GenderID  EmpStatusID  \\\n",
       "count    311.000000  311.000000       311.000000  311.000000   311.000000   \n",
       "mean   10156.000000    0.398714         0.810289    0.434084     2.392283   \n",
       "std       89.922189    0.490423         0.943239    0.496435     1.794383   \n",
       "min    10001.000000    0.000000         0.000000    0.000000     1.000000   \n",
       "25%    10078.500000    0.000000         0.000000    0.000000     1.000000   \n",
       "50%    10156.000000    0.000000         1.000000    0.000000     1.000000   \n",
       "75%    10233.500000    1.000000         1.000000    1.000000     5.000000   \n",
       "max    10311.000000    1.000000         4.000000    1.000000     5.000000   \n",
       "\n",
       "           DeptID  PerfScoreID  FromDiversityJobFairID         Salary  \\\n",
       "count  311.000000   311.000000              311.000000     311.000000   \n",
       "mean     4.610932     2.977492                0.093248   69020.684887   \n",
       "std      1.083487     0.587072                0.291248   25156.636930   \n",
       "min      1.000000     1.000000                0.000000   45046.000000   \n",
       "25%      5.000000     3.000000                0.000000   55501.500000   \n",
       "50%      5.000000     3.000000                0.000000   62810.000000   \n",
       "75%      5.000000     3.000000                0.000000   72036.000000   \n",
       "max      6.000000     4.000000                1.000000  250000.000000   \n",
       "\n",
       "            Termd  PositionID           Zip   ManagerID  EngagementSurvey  \\\n",
       "count  311.000000  311.000000    311.000000  303.000000        311.000000   \n",
       "mean     0.334405   16.845659   6555.482315   14.570957          4.110000   \n",
       "std      0.472542    6.223419  16908.396884    8.078306          0.789938   \n",
       "min      0.000000    1.000000   1013.000000    1.000000          1.120000   \n",
       "25%      0.000000   18.000000   1901.500000   10.000000          3.690000   \n",
       "50%      0.000000   19.000000   2132.000000   15.000000          4.280000   \n",
       "75%      1.000000   20.000000   2355.000000   19.000000          4.700000   \n",
       "max      1.000000   30.000000  98052.000000   39.000000          5.000000   \n",
       "\n",
       "       EmpSatisfaction  SpecialProjectsCount  DaysLateLast30    Absences  \n",
       "count       311.000000            311.000000      311.000000  311.000000  \n",
       "mean          3.890675              1.218650        0.414791   10.237942  \n",
       "std           0.909241              2.349421        1.294519    5.852596  \n",
       "min           1.000000              0.000000        0.000000    1.000000  \n",
       "25%           3.000000              0.000000        0.000000    5.000000  \n",
       "50%           4.000000              0.000000        0.000000   10.000000  \n",
       "75%           5.000000              0.000000        0.000000   15.000000  \n",
       "max           5.000000              8.000000        6.000000   20.000000  "
      ]
     },
     "execution_count": 293,
     "metadata": {},
     "output_type": "execute_result"
    }
   ],
   "source": [
    "#Punto 1= estadísticas descriptivas básicas\n",
    "df.describe()    "
   ]
  },
  {
   "cell_type": "code",
   "execution_count": 294,
   "id": "9e77f93d-4710-4f89-a5f3-b2fdb00c0074",
   "metadata": {
    "collapsed": true,
    "jupyter": {
     "outputs_hidden": true
    },
    "tags": []
   },
   "outputs": [
    {
     "data": {
      "text/plain": [
       "Text(0, 0.5, 'Frecuencia absoluta')"
      ]
     },
     "execution_count": 294,
     "metadata": {},
     "output_type": "execute_result"
    },
    {
     "data": {
      "image/png": "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",
      "text/plain": [
       "<Figure size 576x288 with 1 Axes>"
      ]
     },
     "metadata": {
      "needs_background": "light"
     },
     "output_type": "display_data"
    }
   ],
   "source": [
    "#Punto 2_ Histograma que muestra que el primer intervalo de salarios es el mas popular ()\n",
    "fig, ax = plt.subplots(figsize=(8, 4))            \n",
    "ax.hist(df['Salary'].values.flatten(), bins=8)\n",
    "ax.set_title('Histograma de salarios')\n",
    "ax.set_xlabel('Intervalos de salarios ($)')\n",
    "ax.set_ylabel('Frecuencia absoluta')"
   ]
  },
  {
   "cell_type": "code",
   "execution_count": 295,
   "id": "70e6d9a4-714b-4ded-885b-1acceda4bc1b",
   "metadata": {
    "collapsed": true,
    "jupyter": {
     "outputs_hidden": true
    },
    "tags": []
   },
   "outputs": [
    {
     "name": "stdout",
     "output_type": "stream",
     "text": [
      "El intervalo más popular va desde\n",
      "45046\n",
      "hasta\n",
      "70665.25\n"
     ]
    }
   ],
   "source": [
    "#Calculo y printeo del intervalo mas popular. Pregunta: Se podría hacerlo con una propiedad?\n",
    "print('El intervalo más popular va desde')   \n",
    "tamaño_Intervalos= (df['Salary'].max()-df['Salary'].min())/8\n",
    "print(df['Salary'].min())\n",
    "print('hasta')\n",
    "print(df['Salary'].min()+tamaño_Intervalos)"
   ]
  },
  {
   "cell_type": "code",
   "execution_count": 296,
   "id": "9a9bd0f1-d96a-41f9-bf6d-77af966b6301",
   "metadata": {},
   "outputs": [],
   "source": [
    "#Punto 3= Creación de una columna adicional en el data frame, que indique si es mujer u hombre\n",
    "\n",
    "def set_values(row, value):\n",
    "    return value[row]\n",
    "map_dictionary ={0: \"Mujer\", 1 :\"Hombre\"} \n",
    "   \n",
    "df['Genero'] = df['GenderID'].apply(set_values, args =(map_dictionary, )) "
   ]
  },
  {
   "cell_type": "code",
   "execution_count": 297,
   "id": "014188e7-31c2-41b8-b904-868b1a62cc27",
   "metadata": {
    "collapsed": true,
    "jupyter": {
     "outputs_hidden": true
    },
    "tags": []
   },
   "outputs": [
    {
     "data": {
      "text/plain": [
       "<AxesSubplot:xlabel='Genero', ylabel='Salary'>"
      ]
     },
     "execution_count": 297,
     "metadata": {},
     "output_type": "execute_result"
    },
    {
     "data": {
      "image/png": "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",
      "text/plain": [
       "<Figure size 432x288 with 1 Axes>"
      ]
     },
     "metadata": {
      "needs_background": "light"
     },
     "output_type": "display_data"
    }
   ],
   "source": [
    "sns.violinplot(y = df['Salary'], x = df['Genero'])  #Gráfico que muestra la distribución de salario según genero"
   ]
  },
  {
   "cell_type": "code",
   "execution_count": 298,
   "id": "1f28b61e-1687-46f3-a6f3-e1cdacea2e41",
   "metadata": {},
   "outputs": [],
   "source": [
    "#Punto 4= Graficar serie de tiempo.\n",
    "df['DateofHire']= pd.to_datetime(df['DateofHire'])        #Comenzamos transformando la columna \"DateofHire\" en tipo fecha"
   ]
  },
  {
   "cell_type": "code",
   "execution_count": 299,
   "id": "331796b9-0f57-4a5b-961b-9bfae293be68",
   "metadata": {
    "collapsed": true,
    "jupyter": {
     "outputs_hidden": true
    },
    "tags": []
   },
   "outputs": [
    {
     "ename": "ValueError",
     "evalue": "Length of DataFrame vectors must match length of `data` when both are used, but `data` has length 311 and the vector passed to `y` has length 13.",
     "output_type": "error",
     "traceback": [
      "\u001b[1;31m---------------------------------------------------------------------------\u001b[0m",
      "\u001b[1;31mValueError\u001b[0m                                Traceback (most recent call last)",
      "\u001b[1;32m<ipython-input-299-f1b593654935>\u001b[0m in \u001b[0;36m<module>\u001b[1;34m\u001b[0m\n\u001b[0;32m      1\u001b[0m \u001b[1;31m#Opción 1:\u001b[0m\u001b[1;33m\u001b[0m\u001b[1;33m\u001b[0m\u001b[1;33m\u001b[0m\u001b[0m\n\u001b[0;32m      2\u001b[0m \u001b[1;31m#(Entiendo que no funciona porque en la variable \"y\" le paso 13 valores solamente y data (y la variable x) tiene 311)\u001b[0m\u001b[1;33m\u001b[0m\u001b[1;33m\u001b[0m\u001b[1;33m\u001b[0m\u001b[0m\n\u001b[1;32m----> 3\u001b[1;33m sns.lineplot(x = 'DateofHire',\n\u001b[0m\u001b[0;32m      4\u001b[0m              \u001b[0my\u001b[0m\u001b[1;33m=\u001b[0m\u001b[0mdf\u001b[0m\u001b[1;33m.\u001b[0m\u001b[0mgroupby\u001b[0m\u001b[1;33m(\u001b[0m\u001b[0mdf\u001b[0m\u001b[1;33m[\u001b[0m\u001b[1;34m'DateofHire'\u001b[0m\u001b[1;33m]\u001b[0m\u001b[1;33m.\u001b[0m\u001b[0mdt\u001b[0m\u001b[1;33m.\u001b[0m\u001b[0myear\u001b[0m\u001b[1;33m)\u001b[0m\u001b[1;33m[\u001b[0m\u001b[1;34m'GenderID'\u001b[0m\u001b[1;33m]\u001b[0m\u001b[1;33m.\u001b[0m\u001b[0magg\u001b[0m\u001b[1;33m(\u001b[0m\u001b[1;33m[\u001b[0m\u001b[1;34m'count'\u001b[0m\u001b[1;33m]\u001b[0m\u001b[1;33m)\u001b[0m\u001b[1;33m,\u001b[0m\u001b[1;33m\u001b[0m\u001b[1;33m\u001b[0m\u001b[0m\n\u001b[0;32m      5\u001b[0m              data = df)\n",
      "\u001b[1;32m~\\Anaconda3\\lib\\site-packages\\seaborn\\_decorators.py\u001b[0m in \u001b[0;36minner_f\u001b[1;34m(*args, **kwargs)\u001b[0m\n\u001b[0;32m     44\u001b[0m             )\n\u001b[0;32m     45\u001b[0m         \u001b[0mkwargs\u001b[0m\u001b[1;33m.\u001b[0m\u001b[0mupdate\u001b[0m\u001b[1;33m(\u001b[0m\u001b[1;33m{\u001b[0m\u001b[0mk\u001b[0m\u001b[1;33m:\u001b[0m \u001b[0marg\u001b[0m \u001b[1;32mfor\u001b[0m \u001b[0mk\u001b[0m\u001b[1;33m,\u001b[0m \u001b[0marg\u001b[0m \u001b[1;32min\u001b[0m \u001b[0mzip\u001b[0m\u001b[1;33m(\u001b[0m\u001b[0msig\u001b[0m\u001b[1;33m.\u001b[0m\u001b[0mparameters\u001b[0m\u001b[1;33m,\u001b[0m \u001b[0margs\u001b[0m\u001b[1;33m)\u001b[0m\u001b[1;33m}\u001b[0m\u001b[1;33m)\u001b[0m\u001b[1;33m\u001b[0m\u001b[1;33m\u001b[0m\u001b[0m\n\u001b[1;32m---> 46\u001b[1;33m         \u001b[1;32mreturn\u001b[0m \u001b[0mf\u001b[0m\u001b[1;33m(\u001b[0m\u001b[1;33m**\u001b[0m\u001b[0mkwargs\u001b[0m\u001b[1;33m)\u001b[0m\u001b[1;33m\u001b[0m\u001b[1;33m\u001b[0m\u001b[0m\n\u001b[0m\u001b[0;32m     47\u001b[0m     \u001b[1;32mreturn\u001b[0m \u001b[0minner_f\u001b[0m\u001b[1;33m\u001b[0m\u001b[1;33m\u001b[0m\u001b[0m\n\u001b[0;32m     48\u001b[0m \u001b[1;33m\u001b[0m\u001b[0m\n",
      "\u001b[1;32m~\\Anaconda3\\lib\\site-packages\\seaborn\\relational.py\u001b[0m in \u001b[0;36mlineplot\u001b[1;34m(x, y, hue, size, style, data, palette, hue_order, hue_norm, sizes, size_order, size_norm, dashes, markers, style_order, units, estimator, ci, n_boot, seed, sort, err_style, err_kws, legend, ax, **kwargs)\u001b[0m\n\u001b[0;32m    683\u001b[0m \u001b[1;33m\u001b[0m\u001b[0m\n\u001b[0;32m    684\u001b[0m     \u001b[0mvariables\u001b[0m \u001b[1;33m=\u001b[0m \u001b[0m_LinePlotter\u001b[0m\u001b[1;33m.\u001b[0m\u001b[0mget_semantics\u001b[0m\u001b[1;33m(\u001b[0m\u001b[0mlocals\u001b[0m\u001b[1;33m(\u001b[0m\u001b[1;33m)\u001b[0m\u001b[1;33m)\u001b[0m\u001b[1;33m\u001b[0m\u001b[1;33m\u001b[0m\u001b[0m\n\u001b[1;32m--> 685\u001b[1;33m     p = _LinePlotter(\n\u001b[0m\u001b[0;32m    686\u001b[0m         \u001b[0mdata\u001b[0m\u001b[1;33m=\u001b[0m\u001b[0mdata\u001b[0m\u001b[1;33m,\u001b[0m \u001b[0mvariables\u001b[0m\u001b[1;33m=\u001b[0m\u001b[0mvariables\u001b[0m\u001b[1;33m,\u001b[0m\u001b[1;33m\u001b[0m\u001b[1;33m\u001b[0m\u001b[0m\n\u001b[0;32m    687\u001b[0m         \u001b[0mestimator\u001b[0m\u001b[1;33m=\u001b[0m\u001b[0mestimator\u001b[0m\u001b[1;33m,\u001b[0m \u001b[0mci\u001b[0m\u001b[1;33m=\u001b[0m\u001b[0mci\u001b[0m\u001b[1;33m,\u001b[0m \u001b[0mn_boot\u001b[0m\u001b[1;33m=\u001b[0m\u001b[0mn_boot\u001b[0m\u001b[1;33m,\u001b[0m \u001b[0mseed\u001b[0m\u001b[1;33m=\u001b[0m\u001b[0mseed\u001b[0m\u001b[1;33m,\u001b[0m\u001b[1;33m\u001b[0m\u001b[1;33m\u001b[0m\u001b[0m\n",
      "\u001b[1;32m~\\Anaconda3\\lib\\site-packages\\seaborn\\relational.py\u001b[0m in \u001b[0;36m__init__\u001b[1;34m(self, data, variables, estimator, ci, n_boot, seed, sort, err_style, err_kws, legend)\u001b[0m\n\u001b[0;32m    365\u001b[0m         )\n\u001b[0;32m    366\u001b[0m \u001b[1;33m\u001b[0m\u001b[0m\n\u001b[1;32m--> 367\u001b[1;33m         \u001b[0msuper\u001b[0m\u001b[1;33m(\u001b[0m\u001b[1;33m)\u001b[0m\u001b[1;33m.\u001b[0m\u001b[0m__init__\u001b[0m\u001b[1;33m(\u001b[0m\u001b[0mdata\u001b[0m\u001b[1;33m=\u001b[0m\u001b[0mdata\u001b[0m\u001b[1;33m,\u001b[0m \u001b[0mvariables\u001b[0m\u001b[1;33m=\u001b[0m\u001b[0mvariables\u001b[0m\u001b[1;33m)\u001b[0m\u001b[1;33m\u001b[0m\u001b[1;33m\u001b[0m\u001b[0m\n\u001b[0m\u001b[0;32m    368\u001b[0m \u001b[1;33m\u001b[0m\u001b[0m\n\u001b[0;32m    369\u001b[0m         \u001b[0mself\u001b[0m\u001b[1;33m.\u001b[0m\u001b[0mestimator\u001b[0m \u001b[1;33m=\u001b[0m \u001b[0mestimator\u001b[0m\u001b[1;33m\u001b[0m\u001b[1;33m\u001b[0m\u001b[0m\n",
      "\u001b[1;32m~\\Anaconda3\\lib\\site-packages\\seaborn\\_core.py\u001b[0m in \u001b[0;36m__init__\u001b[1;34m(self, data, variables)\u001b[0m\n\u001b[0;32m    602\u001b[0m     \u001b[1;32mdef\u001b[0m \u001b[0m__init__\u001b[0m\u001b[1;33m(\u001b[0m\u001b[0mself\u001b[0m\u001b[1;33m,\u001b[0m \u001b[0mdata\u001b[0m\u001b[1;33m=\u001b[0m\u001b[1;32mNone\u001b[0m\u001b[1;33m,\u001b[0m \u001b[0mvariables\u001b[0m\u001b[1;33m=\u001b[0m\u001b[1;33m{\u001b[0m\u001b[1;33m}\u001b[0m\u001b[1;33m)\u001b[0m\u001b[1;33m:\u001b[0m\u001b[1;33m\u001b[0m\u001b[1;33m\u001b[0m\u001b[0m\n\u001b[0;32m    603\u001b[0m \u001b[1;33m\u001b[0m\u001b[0m\n\u001b[1;32m--> 604\u001b[1;33m         \u001b[0mself\u001b[0m\u001b[1;33m.\u001b[0m\u001b[0massign_variables\u001b[0m\u001b[1;33m(\u001b[0m\u001b[0mdata\u001b[0m\u001b[1;33m,\u001b[0m \u001b[0mvariables\u001b[0m\u001b[1;33m)\u001b[0m\u001b[1;33m\u001b[0m\u001b[1;33m\u001b[0m\u001b[0m\n\u001b[0m\u001b[0;32m    605\u001b[0m \u001b[1;33m\u001b[0m\u001b[0m\n\u001b[0;32m    606\u001b[0m         \u001b[1;32mfor\u001b[0m \u001b[0mvar\u001b[0m\u001b[1;33m,\u001b[0m \u001b[0mcls\u001b[0m \u001b[1;32min\u001b[0m \u001b[0mself\u001b[0m\u001b[1;33m.\u001b[0m\u001b[0m_semantic_mappings\u001b[0m\u001b[1;33m.\u001b[0m\u001b[0mitems\u001b[0m\u001b[1;33m(\u001b[0m\u001b[1;33m)\u001b[0m\u001b[1;33m:\u001b[0m\u001b[1;33m\u001b[0m\u001b[1;33m\u001b[0m\u001b[0m\n",
      "\u001b[1;32m~\\Anaconda3\\lib\\site-packages\\seaborn\\_core.py\u001b[0m in \u001b[0;36massign_variables\u001b[1;34m(self, data, variables)\u001b[0m\n\u001b[0;32m    665\u001b[0m         \u001b[1;32melse\u001b[0m\u001b[1;33m:\u001b[0m\u001b[1;33m\u001b[0m\u001b[1;33m\u001b[0m\u001b[0m\n\u001b[0;32m    666\u001b[0m             \u001b[0mself\u001b[0m\u001b[1;33m.\u001b[0m\u001b[0minput_format\u001b[0m \u001b[1;33m=\u001b[0m \u001b[1;34m\"long\"\u001b[0m\u001b[1;33m\u001b[0m\u001b[1;33m\u001b[0m\u001b[0m\n\u001b[1;32m--> 667\u001b[1;33m             plot_data, variables = self._assign_variables_longform(\n\u001b[0m\u001b[0;32m    668\u001b[0m                 \u001b[0mdata\u001b[0m\u001b[1;33m,\u001b[0m \u001b[1;33m**\u001b[0m\u001b[0mvariables\u001b[0m\u001b[1;33m,\u001b[0m\u001b[1;33m\u001b[0m\u001b[1;33m\u001b[0m\u001b[0m\n\u001b[0;32m    669\u001b[0m             )\n",
      "\u001b[1;32m~\\Anaconda3\\lib\\site-packages\\seaborn\\_core.py\u001b[0m in \u001b[0;36m_assign_variables_longform\u001b[1;34m(self, data, **kwargs)\u001b[0m\n\u001b[0;32m    915\u001b[0m                             \u001b[1;34mf\" and the vector passed to `{key}` has length {len(val)}.\"\u001b[0m\u001b[1;33m\u001b[0m\u001b[1;33m\u001b[0m\u001b[0m\n\u001b[0;32m    916\u001b[0m                         )\n\u001b[1;32m--> 917\u001b[1;33m                         \u001b[1;32mraise\u001b[0m \u001b[0mValueError\u001b[0m\u001b[1;33m(\u001b[0m\u001b[0merr\u001b[0m\u001b[1;33m)\u001b[0m\u001b[1;33m\u001b[0m\u001b[1;33m\u001b[0m\u001b[0m\n\u001b[0m\u001b[0;32m    918\u001b[0m \u001b[1;33m\u001b[0m\u001b[0m\n\u001b[0;32m    919\u001b[0m                 \u001b[0mplot_data\u001b[0m\u001b[1;33m[\u001b[0m\u001b[0mkey\u001b[0m\u001b[1;33m]\u001b[0m \u001b[1;33m=\u001b[0m \u001b[0mval\u001b[0m\u001b[1;33m\u001b[0m\u001b[1;33m\u001b[0m\u001b[0m\n",
      "\u001b[1;31mValueError\u001b[0m: Length of DataFrame vectors must match length of `data` when both are used, but `data` has length 311 and the vector passed to `y` has length 13."
     ]
    }
   ],
   "source": [
    "#Opción 1:\n",
    "#(Entiendo que no funciona porque en la variable \"y\" le paso 13 valores solamente y data (y la variable x) tiene 311)\n",
    "sns.lineplot(x = 'DateofHire',\n",
    "             y=df.groupby(df['DateofHire'].dt.year)['GenderID'].agg(['count']), \n",
    "             data = df)"
   ]
  },
  {
   "cell_type": "code",
   "execution_count": 300,
   "id": "54e04eb2-dc23-4426-beb2-b4c49a15ebab",
   "metadata": {
    "collapsed": true,
    "jupyter": {
     "outputs_hidden": true
    },
    "tags": []
   },
   "outputs": [
    {
     "ename": "ValueError",
     "evalue": "Length of SeriesGroupBy vectors must match length of `data` when both are used, but `data` has length 311 and the vector passed to `x` has length 13.",
     "output_type": "error",
     "traceback": [
      "\u001b[1;31m---------------------------------------------------------------------------\u001b[0m",
      "\u001b[1;31mValueError\u001b[0m                                Traceback (most recent call last)",
      "\u001b[1;32m<ipython-input-300-5109bfed1a88>\u001b[0m in \u001b[0;36m<module>\u001b[1;34m\u001b[0m\n\u001b[0;32m      1\u001b[0m \u001b[1;31m#Continúo opción 1 pero sigue el mismo error porque el data frame tiene 311 filas, y las variables x e y solo 13\u001b[0m\u001b[1;33m\u001b[0m\u001b[1;33m\u001b[0m\u001b[1;33m\u001b[0m\u001b[0m\n\u001b[1;32m----> 2\u001b[1;33m sns.lineplot(x = df.groupby(df['DateofHire'].dt.year)['GenderID'],\n\u001b[0m\u001b[0;32m      3\u001b[0m              \u001b[0my\u001b[0m\u001b[1;33m=\u001b[0m\u001b[0mdf\u001b[0m\u001b[1;33m.\u001b[0m\u001b[0mgroupby\u001b[0m\u001b[1;33m(\u001b[0m\u001b[0mdf\u001b[0m\u001b[1;33m[\u001b[0m\u001b[1;34m'DateofHire'\u001b[0m\u001b[1;33m]\u001b[0m\u001b[1;33m.\u001b[0m\u001b[0mdt\u001b[0m\u001b[1;33m.\u001b[0m\u001b[0myear\u001b[0m\u001b[1;33m)\u001b[0m\u001b[1;33m[\u001b[0m\u001b[1;34m'GenderID'\u001b[0m\u001b[1;33m]\u001b[0m\u001b[1;33m.\u001b[0m\u001b[0magg\u001b[0m\u001b[1;33m(\u001b[0m\u001b[1;33m[\u001b[0m\u001b[1;34m'count'\u001b[0m\u001b[1;33m]\u001b[0m\u001b[1;33m)\u001b[0m\u001b[1;33m,\u001b[0m\u001b[1;33m\u001b[0m\u001b[1;33m\u001b[0m\u001b[0m\n\u001b[0;32m      4\u001b[0m              data = df)\n",
      "\u001b[1;32m~\\Anaconda3\\lib\\site-packages\\seaborn\\_decorators.py\u001b[0m in \u001b[0;36minner_f\u001b[1;34m(*args, **kwargs)\u001b[0m\n\u001b[0;32m     44\u001b[0m             )\n\u001b[0;32m     45\u001b[0m         \u001b[0mkwargs\u001b[0m\u001b[1;33m.\u001b[0m\u001b[0mupdate\u001b[0m\u001b[1;33m(\u001b[0m\u001b[1;33m{\u001b[0m\u001b[0mk\u001b[0m\u001b[1;33m:\u001b[0m \u001b[0marg\u001b[0m \u001b[1;32mfor\u001b[0m \u001b[0mk\u001b[0m\u001b[1;33m,\u001b[0m \u001b[0marg\u001b[0m \u001b[1;32min\u001b[0m \u001b[0mzip\u001b[0m\u001b[1;33m(\u001b[0m\u001b[0msig\u001b[0m\u001b[1;33m.\u001b[0m\u001b[0mparameters\u001b[0m\u001b[1;33m,\u001b[0m \u001b[0margs\u001b[0m\u001b[1;33m)\u001b[0m\u001b[1;33m}\u001b[0m\u001b[1;33m)\u001b[0m\u001b[1;33m\u001b[0m\u001b[1;33m\u001b[0m\u001b[0m\n\u001b[1;32m---> 46\u001b[1;33m         \u001b[1;32mreturn\u001b[0m \u001b[0mf\u001b[0m\u001b[1;33m(\u001b[0m\u001b[1;33m**\u001b[0m\u001b[0mkwargs\u001b[0m\u001b[1;33m)\u001b[0m\u001b[1;33m\u001b[0m\u001b[1;33m\u001b[0m\u001b[0m\n\u001b[0m\u001b[0;32m     47\u001b[0m     \u001b[1;32mreturn\u001b[0m \u001b[0minner_f\u001b[0m\u001b[1;33m\u001b[0m\u001b[1;33m\u001b[0m\u001b[0m\n\u001b[0;32m     48\u001b[0m \u001b[1;33m\u001b[0m\u001b[0m\n",
      "\u001b[1;32m~\\Anaconda3\\lib\\site-packages\\seaborn\\relational.py\u001b[0m in \u001b[0;36mlineplot\u001b[1;34m(x, y, hue, size, style, data, palette, hue_order, hue_norm, sizes, size_order, size_norm, dashes, markers, style_order, units, estimator, ci, n_boot, seed, sort, err_style, err_kws, legend, ax, **kwargs)\u001b[0m\n\u001b[0;32m    683\u001b[0m \u001b[1;33m\u001b[0m\u001b[0m\n\u001b[0;32m    684\u001b[0m     \u001b[0mvariables\u001b[0m \u001b[1;33m=\u001b[0m \u001b[0m_LinePlotter\u001b[0m\u001b[1;33m.\u001b[0m\u001b[0mget_semantics\u001b[0m\u001b[1;33m(\u001b[0m\u001b[0mlocals\u001b[0m\u001b[1;33m(\u001b[0m\u001b[1;33m)\u001b[0m\u001b[1;33m)\u001b[0m\u001b[1;33m\u001b[0m\u001b[1;33m\u001b[0m\u001b[0m\n\u001b[1;32m--> 685\u001b[1;33m     p = _LinePlotter(\n\u001b[0m\u001b[0;32m    686\u001b[0m         \u001b[0mdata\u001b[0m\u001b[1;33m=\u001b[0m\u001b[0mdata\u001b[0m\u001b[1;33m,\u001b[0m \u001b[0mvariables\u001b[0m\u001b[1;33m=\u001b[0m\u001b[0mvariables\u001b[0m\u001b[1;33m,\u001b[0m\u001b[1;33m\u001b[0m\u001b[1;33m\u001b[0m\u001b[0m\n\u001b[0;32m    687\u001b[0m         \u001b[0mestimator\u001b[0m\u001b[1;33m=\u001b[0m\u001b[0mestimator\u001b[0m\u001b[1;33m,\u001b[0m \u001b[0mci\u001b[0m\u001b[1;33m=\u001b[0m\u001b[0mci\u001b[0m\u001b[1;33m,\u001b[0m \u001b[0mn_boot\u001b[0m\u001b[1;33m=\u001b[0m\u001b[0mn_boot\u001b[0m\u001b[1;33m,\u001b[0m \u001b[0mseed\u001b[0m\u001b[1;33m=\u001b[0m\u001b[0mseed\u001b[0m\u001b[1;33m,\u001b[0m\u001b[1;33m\u001b[0m\u001b[1;33m\u001b[0m\u001b[0m\n",
      "\u001b[1;32m~\\Anaconda3\\lib\\site-packages\\seaborn\\relational.py\u001b[0m in \u001b[0;36m__init__\u001b[1;34m(self, data, variables, estimator, ci, n_boot, seed, sort, err_style, err_kws, legend)\u001b[0m\n\u001b[0;32m    365\u001b[0m         )\n\u001b[0;32m    366\u001b[0m \u001b[1;33m\u001b[0m\u001b[0m\n\u001b[1;32m--> 367\u001b[1;33m         \u001b[0msuper\u001b[0m\u001b[1;33m(\u001b[0m\u001b[1;33m)\u001b[0m\u001b[1;33m.\u001b[0m\u001b[0m__init__\u001b[0m\u001b[1;33m(\u001b[0m\u001b[0mdata\u001b[0m\u001b[1;33m=\u001b[0m\u001b[0mdata\u001b[0m\u001b[1;33m,\u001b[0m \u001b[0mvariables\u001b[0m\u001b[1;33m=\u001b[0m\u001b[0mvariables\u001b[0m\u001b[1;33m)\u001b[0m\u001b[1;33m\u001b[0m\u001b[1;33m\u001b[0m\u001b[0m\n\u001b[0m\u001b[0;32m    368\u001b[0m \u001b[1;33m\u001b[0m\u001b[0m\n\u001b[0;32m    369\u001b[0m         \u001b[0mself\u001b[0m\u001b[1;33m.\u001b[0m\u001b[0mestimator\u001b[0m \u001b[1;33m=\u001b[0m \u001b[0mestimator\u001b[0m\u001b[1;33m\u001b[0m\u001b[1;33m\u001b[0m\u001b[0m\n",
      "\u001b[1;32m~\\Anaconda3\\lib\\site-packages\\seaborn\\_core.py\u001b[0m in \u001b[0;36m__init__\u001b[1;34m(self, data, variables)\u001b[0m\n\u001b[0;32m    602\u001b[0m     \u001b[1;32mdef\u001b[0m \u001b[0m__init__\u001b[0m\u001b[1;33m(\u001b[0m\u001b[0mself\u001b[0m\u001b[1;33m,\u001b[0m \u001b[0mdata\u001b[0m\u001b[1;33m=\u001b[0m\u001b[1;32mNone\u001b[0m\u001b[1;33m,\u001b[0m \u001b[0mvariables\u001b[0m\u001b[1;33m=\u001b[0m\u001b[1;33m{\u001b[0m\u001b[1;33m}\u001b[0m\u001b[1;33m)\u001b[0m\u001b[1;33m:\u001b[0m\u001b[1;33m\u001b[0m\u001b[1;33m\u001b[0m\u001b[0m\n\u001b[0;32m    603\u001b[0m \u001b[1;33m\u001b[0m\u001b[0m\n\u001b[1;32m--> 604\u001b[1;33m         \u001b[0mself\u001b[0m\u001b[1;33m.\u001b[0m\u001b[0massign_variables\u001b[0m\u001b[1;33m(\u001b[0m\u001b[0mdata\u001b[0m\u001b[1;33m,\u001b[0m \u001b[0mvariables\u001b[0m\u001b[1;33m)\u001b[0m\u001b[1;33m\u001b[0m\u001b[1;33m\u001b[0m\u001b[0m\n\u001b[0m\u001b[0;32m    605\u001b[0m \u001b[1;33m\u001b[0m\u001b[0m\n\u001b[0;32m    606\u001b[0m         \u001b[1;32mfor\u001b[0m \u001b[0mvar\u001b[0m\u001b[1;33m,\u001b[0m \u001b[0mcls\u001b[0m \u001b[1;32min\u001b[0m \u001b[0mself\u001b[0m\u001b[1;33m.\u001b[0m\u001b[0m_semantic_mappings\u001b[0m\u001b[1;33m.\u001b[0m\u001b[0mitems\u001b[0m\u001b[1;33m(\u001b[0m\u001b[1;33m)\u001b[0m\u001b[1;33m:\u001b[0m\u001b[1;33m\u001b[0m\u001b[1;33m\u001b[0m\u001b[0m\n",
      "\u001b[1;32m~\\Anaconda3\\lib\\site-packages\\seaborn\\_core.py\u001b[0m in \u001b[0;36massign_variables\u001b[1;34m(self, data, variables)\u001b[0m\n\u001b[0;32m    665\u001b[0m         \u001b[1;32melse\u001b[0m\u001b[1;33m:\u001b[0m\u001b[1;33m\u001b[0m\u001b[1;33m\u001b[0m\u001b[0m\n\u001b[0;32m    666\u001b[0m             \u001b[0mself\u001b[0m\u001b[1;33m.\u001b[0m\u001b[0minput_format\u001b[0m \u001b[1;33m=\u001b[0m \u001b[1;34m\"long\"\u001b[0m\u001b[1;33m\u001b[0m\u001b[1;33m\u001b[0m\u001b[0m\n\u001b[1;32m--> 667\u001b[1;33m             plot_data, variables = self._assign_variables_longform(\n\u001b[0m\u001b[0;32m    668\u001b[0m                 \u001b[0mdata\u001b[0m\u001b[1;33m,\u001b[0m \u001b[1;33m**\u001b[0m\u001b[0mvariables\u001b[0m\u001b[1;33m,\u001b[0m\u001b[1;33m\u001b[0m\u001b[1;33m\u001b[0m\u001b[0m\n\u001b[0;32m    669\u001b[0m             )\n",
      "\u001b[1;32m~\\Anaconda3\\lib\\site-packages\\seaborn\\_core.py\u001b[0m in \u001b[0;36m_assign_variables_longform\u001b[1;34m(self, data, **kwargs)\u001b[0m\n\u001b[0;32m    915\u001b[0m                             \u001b[1;34mf\" and the vector passed to `{key}` has length {len(val)}.\"\u001b[0m\u001b[1;33m\u001b[0m\u001b[1;33m\u001b[0m\u001b[0m\n\u001b[0;32m    916\u001b[0m                         )\n\u001b[1;32m--> 917\u001b[1;33m                         \u001b[1;32mraise\u001b[0m \u001b[0mValueError\u001b[0m\u001b[1;33m(\u001b[0m\u001b[0merr\u001b[0m\u001b[1;33m)\u001b[0m\u001b[1;33m\u001b[0m\u001b[1;33m\u001b[0m\u001b[0m\n\u001b[0m\u001b[0;32m    918\u001b[0m \u001b[1;33m\u001b[0m\u001b[0m\n\u001b[0;32m    919\u001b[0m                 \u001b[0mplot_data\u001b[0m\u001b[1;33m[\u001b[0m\u001b[0mkey\u001b[0m\u001b[1;33m]\u001b[0m \u001b[1;33m=\u001b[0m \u001b[0mval\u001b[0m\u001b[1;33m\u001b[0m\u001b[1;33m\u001b[0m\u001b[0m\n",
      "\u001b[1;31mValueError\u001b[0m: Length of SeriesGroupBy vectors must match length of `data` when both are used, but `data` has length 311 and the vector passed to `x` has length 13."
     ]
    }
   ],
   "source": [
    "#Continúo opción 1 pero sigue el mismo error porque el data frame tiene 311 filas, y las variables x e y solo 13\n",
    "sns.lineplot(x = df.groupby(df['DateofHire'].dt.year)['GenderID'],\n",
    "             y=df.groupby(df['DateofHire'].dt.year)['GenderID'].agg(['count']), \n",
    "             data = df)"
   ]
  },
  {
   "cell_type": "code",
   "execution_count": 301,
   "id": "a5898f90-0894-4be7-8849-97de7ec88451",
   "metadata": {
    "collapsed": true,
    "jupyter": {
     "outputs_hidden": true
    },
    "tags": []
   },
   "outputs": [
    {
     "data": {
      "text/plain": [
       "<AxesSubplot:xlabel='DateofHire', ylabel='EmpID'>"
      ]
     },
     "execution_count": 301,
     "metadata": {},
     "output_type": "execute_result"
    },
    {
     "data": {
      "image/png": "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",
      "text/plain": [
       "<Figure size 432x288 with 1 Axes>"
      ]
     },
     "metadata": {
      "needs_background": "light"
     },
     "output_type": "display_data"
    }
   ],
   "source": [
    "#Opción 2: la idea era que la variable y permita mostrar cuantos empleados ingresaron en la serie de tiempo, pero no funciona\n",
    "# Elegí \"EmpID\" ya que es un valor que no se repite\n",
    "sns.lineplot(x = 'DateofHire',y= df['EmpID'].value_counts(), data = df)\n"
   ]
  }
 ],
 "metadata": {
  "kernelspec": {
   "display_name": "Python 3",
   "language": "python",
   "name": "python3"
  },
  "language_info": {
   "codemirror_mode": {
    "name": "ipython",
    "version": 3
   },
   "file_extension": ".py",
   "mimetype": "text/x-python",
   "name": "python",
   "nbconvert_exporter": "python",
   "pygments_lexer": "ipython3",
   "version": "3.8.8"
  }
 },
 "nbformat": 4,
 "nbformat_minor": 5
}
